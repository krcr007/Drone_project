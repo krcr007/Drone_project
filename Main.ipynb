{
 "cells": [
  {
   "metadata": {
    "ExecuteTime": {
     "end_time": "2025-01-21T11:04:30.708844Z",
     "start_time": "2025-01-21T11:04:29.905696Z"
    }
   },
   "cell_type": "code",
   "source": "import torch",
   "id": "ab76e83bdd3c0067",
   "outputs": [],
   "execution_count": 5
  },
  {
   "metadata": {
    "ExecuteTime": {
     "end_time": "2025-01-21T11:04:31.325152Z",
     "start_time": "2025-01-21T11:04:31.322416Z"
    }
   },
   "cell_type": "code",
   "source": [
    "import ssl\n",
    "import certifi\n",
    "ssl._create_default_https_context = ssl._create_unverified_context\n"
   ],
   "id": "b92ea81e40d989c4",
   "outputs": [],
   "execution_count": 6
  },
  {
   "metadata": {
    "ExecuteTime": {
     "end_time": "2025-01-22T18:48:37.015088Z",
     "start_time": "2025-01-22T18:48:36.800119Z"
    }
   },
   "cell_type": "code",
   "source": "! python detect.py --weights runs/train/exp/weights/best.pt --source /Users/kartikraktate/PycharmProjects/Mainafas/dataset/images/2.jpg --conf 0.25\n",
   "id": "592a7fa55a5285ab",
   "outputs": [
    {
     "name": "stdout",
     "output_type": "stream",
     "text": [
      "/Users/kartikraktate/PycharmProjects/Mainafas/.venv/bin/python: can't open file '/Users/kartikraktate/PycharmProjects/Mainafas/detect.py': [Errno 2] No such file or directory\r\n"
     ]
    }
   ],
   "execution_count": 7
  }
 ],
 "metadata": {
  "kernelspec": {
   "display_name": "Python 3",
   "language": "python",
   "name": "python3"
  },
  "language_info": {
   "codemirror_mode": {
    "name": "ipython",
    "version": 2
   },
   "file_extension": ".py",
   "mimetype": "text/x-python",
   "name": "python",
   "nbconvert_exporter": "python",
   "pygments_lexer": "ipython2",
   "version": "2.7.6"
  }
 },
 "nbformat": 4,
 "nbformat_minor": 5
}
